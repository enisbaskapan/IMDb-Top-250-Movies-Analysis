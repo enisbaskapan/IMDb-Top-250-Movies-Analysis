{
 "cells": [
  {
   "cell_type": "markdown",
   "metadata": {},
   "source": [
    "# IMDb Top 250 Movies Analysis"
   ]
  },
  {
   "cell_type": "markdown",
   "metadata": {},
   "source": [
    "## Import required libraries"
   ]
  },
  {
   "cell_type": "code",
   "execution_count": 24,
   "metadata": {},
   "outputs": [],
   "source": [
    "import pandas as pd\n",
    "import csv\n",
    "import seaborn as sns\n",
    "import matplotlib.pyplot as plt\n",
    "from pandas import Series"
   ]
  },
  {
   "cell_type": "markdown",
   "metadata": {},
   "source": [
    "## Load data"
   ]
  },
  {
   "cell_type": "code",
   "execution_count": 25,
   "metadata": {
    "scrolled": true
   },
   "outputs": [
    {
     "data": {
      "text/html": [
       "<div>\n",
       "<style scoped>\n",
       "    .dataframe tbody tr th:only-of-type {\n",
       "        vertical-align: middle;\n",
       "    }\n",
       "\n",
       "    .dataframe tbody tr th {\n",
       "        vertical-align: top;\n",
       "    }\n",
       "\n",
       "    .dataframe thead th {\n",
       "        text-align: right;\n",
       "    }\n",
       "</style>\n",
       "<table border=\"1\" class=\"dataframe\">\n",
       "  <thead>\n",
       "    <tr style=\"text-align: right;\">\n",
       "      <th></th>\n",
       "      <th>rank</th>\n",
       "      <th>title</th>\n",
       "      <th>year</th>\n",
       "      <th>director</th>\n",
       "      <th>duration(minutes)</th>\n",
       "      <th>genre</th>\n",
       "      <th>rating</th>\n",
       "      <th>gross</th>\n",
       "      <th>oscars</th>\n",
       "      <th>awards</th>\n",
       "      <th>nominations</th>\n",
       "    </tr>\n",
       "  </thead>\n",
       "  <tbody>\n",
       "    <tr>\n",
       "      <th>0</th>\n",
       "      <td>1</td>\n",
       "      <td>The Shawshank Redemption</td>\n",
       "      <td>1994</td>\n",
       "      <td>Frank Darabont</td>\n",
       "      <td>142</td>\n",
       "      <td>['Drama']</td>\n",
       "      <td>9.2</td>\n",
       "      <td>2.888450e+07</td>\n",
       "      <td>0</td>\n",
       "      <td>21</td>\n",
       "      <td>43</td>\n",
       "    </tr>\n",
       "    <tr>\n",
       "      <th>1</th>\n",
       "      <td>2</td>\n",
       "      <td>The Godfather</td>\n",
       "      <td>1972</td>\n",
       "      <td>Francis Ford Coppola</td>\n",
       "      <td>175</td>\n",
       "      <td>['Crime', 'Drama']</td>\n",
       "      <td>9.2</td>\n",
       "      <td>2.503418e+08</td>\n",
       "      <td>3</td>\n",
       "      <td>31</td>\n",
       "      <td>30</td>\n",
       "    </tr>\n",
       "    <tr>\n",
       "      <th>2</th>\n",
       "      <td>3</td>\n",
       "      <td>The Dark Knight</td>\n",
       "      <td>2008</td>\n",
       "      <td>Christopher Nolan</td>\n",
       "      <td>152</td>\n",
       "      <td>['Action', 'Crime', 'Drama']</td>\n",
       "      <td>9.0</td>\n",
       "      <td>1.006102e+09</td>\n",
       "      <td>2</td>\n",
       "      <td>159</td>\n",
       "      <td>163</td>\n",
       "    </tr>\n",
       "    <tr>\n",
       "      <th>3</th>\n",
       "      <td>4</td>\n",
       "      <td>The Godfather Part II</td>\n",
       "      <td>1974</td>\n",
       "      <td>Francis Ford Coppola</td>\n",
       "      <td>202</td>\n",
       "      <td>['Crime', 'Drama']</td>\n",
       "      <td>9.0</td>\n",
       "      <td>4.796192e+07</td>\n",
       "      <td>6</td>\n",
       "      <td>17</td>\n",
       "      <td>20</td>\n",
       "    </tr>\n",
       "    <tr>\n",
       "      <th>4</th>\n",
       "      <td>5</td>\n",
       "      <td>12 Angry Men</td>\n",
       "      <td>1957</td>\n",
       "      <td>Sidney Lumet</td>\n",
       "      <td>96</td>\n",
       "      <td>['Crime', 'Drama']</td>\n",
       "      <td>8.9</td>\n",
       "      <td>9.550000e+02</td>\n",
       "      <td>0</td>\n",
       "      <td>17</td>\n",
       "      <td>13</td>\n",
       "    </tr>\n",
       "  </tbody>\n",
       "</table>\n",
       "</div>"
      ],
      "text/plain": [
       "   rank                     title  year              director  \\\n",
       "0     1  The Shawshank Redemption  1994        Frank Darabont   \n",
       "1     2             The Godfather  1972  Francis Ford Coppola   \n",
       "2     3           The Dark Knight  2008     Christopher Nolan   \n",
       "3     4     The Godfather Part II  1974  Francis Ford Coppola   \n",
       "4     5              12 Angry Men  1957          Sidney Lumet   \n",
       "\n",
       "   duration(minutes)                         genre  rating         gross  \\\n",
       "0                142                     ['Drama']     9.2  2.888450e+07   \n",
       "1                175            ['Crime', 'Drama']     9.2  2.503418e+08   \n",
       "2                152  ['Action', 'Crime', 'Drama']     9.0  1.006102e+09   \n",
       "3                202            ['Crime', 'Drama']     9.0  4.796192e+07   \n",
       "4                 96            ['Crime', 'Drama']     8.9  9.550000e+02   \n",
       "\n",
       "   oscars  awards  nominations  \n",
       "0       0      21           43  \n",
       "1       3      31           30  \n",
       "2       2     159          163  \n",
       "3       6      17           20  \n",
       "4       0      17           13  "
      ]
     },
     "execution_count": 25,
     "metadata": {},
     "output_type": "execute_result"
    }
   ],
   "source": [
    "df = pd.read_csv('imdbtop250.csv')\n",
    "df.head()"
   ]
  },
  {
   "cell_type": "code",
   "execution_count": 26,
   "metadata": {},
   "outputs": [
    {
     "data": {
      "text/plain": [
       "rank                 0\n",
       "title                0\n",
       "year                 0\n",
       "director             0\n",
       "duration(minutes)    0\n",
       "genre                0\n",
       "rating               0\n",
       "gross                7\n",
       "oscars               0\n",
       "awards               0\n",
       "nominations          0\n",
       "dtype: int64"
      ]
     },
     "execution_count": 26,
     "metadata": {},
     "output_type": "execute_result"
    }
   ],
   "source": [
    "df.isnull().sum() # These are movies with no gross value given"
   ]
  },
  {
   "cell_type": "markdown",
   "metadata": {},
   "source": [
    "## Add new column to write list items outside"
   ]
  },
  {
   "cell_type": "code",
   "execution_count": 27,
   "metadata": {},
   "outputs": [
    {
     "data": {
      "text/html": [
       "<div>\n",
       "<style scoped>\n",
       "    .dataframe tbody tr th:only-of-type {\n",
       "        vertical-align: middle;\n",
       "    }\n",
       "\n",
       "    .dataframe tbody tr th {\n",
       "        vertical-align: top;\n",
       "    }\n",
       "\n",
       "    .dataframe thead th {\n",
       "        text-align: right;\n",
       "    }\n",
       "</style>\n",
       "<table border=\"1\" class=\"dataframe\">\n",
       "  <thead>\n",
       "    <tr style=\"text-align: right;\">\n",
       "      <th></th>\n",
       "      <th>rank</th>\n",
       "      <th>title</th>\n",
       "      <th>year</th>\n",
       "      <th>genres</th>\n",
       "      <th>director</th>\n",
       "      <th>duration(minutes)</th>\n",
       "      <th>rating</th>\n",
       "      <th>gross</th>\n",
       "      <th>oscars</th>\n",
       "      <th>awards</th>\n",
       "      <th>nominations</th>\n",
       "    </tr>\n",
       "  </thead>\n",
       "  <tbody>\n",
       "    <tr>\n",
       "      <th>0</th>\n",
       "      <td>1</td>\n",
       "      <td>The Shawshank Redemption</td>\n",
       "      <td>1994</td>\n",
       "      <td>Drama</td>\n",
       "      <td>Frank Darabont</td>\n",
       "      <td>142</td>\n",
       "      <td>9.2</td>\n",
       "      <td>2.888450e+07</td>\n",
       "      <td>0</td>\n",
       "      <td>21</td>\n",
       "      <td>43</td>\n",
       "    </tr>\n",
       "    <tr>\n",
       "      <th>1</th>\n",
       "      <td>2</td>\n",
       "      <td>The Godfather</td>\n",
       "      <td>1972</td>\n",
       "      <td>Crime, Drama</td>\n",
       "      <td>Francis Ford Coppola</td>\n",
       "      <td>175</td>\n",
       "      <td>9.2</td>\n",
       "      <td>2.503418e+08</td>\n",
       "      <td>3</td>\n",
       "      <td>31</td>\n",
       "      <td>30</td>\n",
       "    </tr>\n",
       "    <tr>\n",
       "      <th>2</th>\n",
       "      <td>3</td>\n",
       "      <td>The Dark Knight</td>\n",
       "      <td>2008</td>\n",
       "      <td>Action, Crime, Drama</td>\n",
       "      <td>Christopher Nolan</td>\n",
       "      <td>152</td>\n",
       "      <td>9.0</td>\n",
       "      <td>1.006102e+09</td>\n",
       "      <td>2</td>\n",
       "      <td>159</td>\n",
       "      <td>163</td>\n",
       "    </tr>\n",
       "    <tr>\n",
       "      <th>3</th>\n",
       "      <td>4</td>\n",
       "      <td>The Godfather Part II</td>\n",
       "      <td>1974</td>\n",
       "      <td>Crime, Drama</td>\n",
       "      <td>Francis Ford Coppola</td>\n",
       "      <td>202</td>\n",
       "      <td>9.0</td>\n",
       "      <td>4.796192e+07</td>\n",
       "      <td>6</td>\n",
       "      <td>17</td>\n",
       "      <td>20</td>\n",
       "    </tr>\n",
       "    <tr>\n",
       "      <th>4</th>\n",
       "      <td>5</td>\n",
       "      <td>12 Angry Men</td>\n",
       "      <td>1957</td>\n",
       "      <td>Crime, Drama</td>\n",
       "      <td>Sidney Lumet</td>\n",
       "      <td>96</td>\n",
       "      <td>8.9</td>\n",
       "      <td>9.550000e+02</td>\n",
       "      <td>0</td>\n",
       "      <td>17</td>\n",
       "      <td>13</td>\n",
       "    </tr>\n",
       "  </tbody>\n",
       "</table>\n",
       "</div>"
      ],
      "text/plain": [
       "   rank                     title  year                genres  \\\n",
       "0     1  The Shawshank Redemption  1994                 Drama   \n",
       "1     2             The Godfather  1972          Crime, Drama   \n",
       "2     3           The Dark Knight  2008  Action, Crime, Drama   \n",
       "3     4     The Godfather Part II  1974          Crime, Drama   \n",
       "4     5              12 Angry Men  1957          Crime, Drama   \n",
       "\n",
       "               director  duration(minutes)  rating         gross  oscars  \\\n",
       "0        Frank Darabont                142     9.2  2.888450e+07       0   \n",
       "1  Francis Ford Coppola                175     9.2  2.503418e+08       3   \n",
       "2     Christopher Nolan                152     9.0  1.006102e+09       2   \n",
       "3  Francis Ford Coppola                202     9.0  4.796192e+07       6   \n",
       "4          Sidney Lumet                 96     8.9  9.550000e+02       0   \n",
       "\n",
       "   awards  nominations  \n",
       "0      21           43  \n",
       "1      31           30  \n",
       "2     159          163  \n",
       "3      17           20  \n",
       "4      17           13  "
      ]
     },
     "execution_count": 27,
     "metadata": {},
     "output_type": "execute_result"
    }
   ],
   "source": [
    "genres = df['genre'].apply(lambda x: x[1:-1].replace(\"'\", ''))\n",
    "df.insert(loc=3, column='genres', value=genres)\n",
    "df.drop('genre', inplace=True, axis=1)\n",
    "df.head()"
   ]
  },
  {
   "cell_type": "markdown",
   "metadata": {},
   "source": [
    "## Genre Analysis"
   ]
  },
  {
   "cell_type": "markdown",
   "metadata": {},
   "source": [
    "### Seperate genres"
   ]
  },
  {
   "cell_type": "code",
   "execution_count": 28,
   "metadata": {},
   "outputs": [
    {
     "data": {
      "text/html": [
       "<div>\n",
       "<style scoped>\n",
       "    .dataframe tbody tr th:only-of-type {\n",
       "        vertical-align: middle;\n",
       "    }\n",
       "\n",
       "    .dataframe tbody tr th {\n",
       "        vertical-align: top;\n",
       "    }\n",
       "\n",
       "    .dataframe thead th {\n",
       "        text-align: right;\n",
       "    }\n",
       "</style>\n",
       "<table border=\"1\" class=\"dataframe\">\n",
       "  <thead>\n",
       "    <tr style=\"text-align: right;\">\n",
       "      <th></th>\n",
       "      <th>rank</th>\n",
       "      <th>title</th>\n",
       "      <th>year</th>\n",
       "      <th>director</th>\n",
       "      <th>duration(minutes)</th>\n",
       "      <th>rating</th>\n",
       "      <th>gross</th>\n",
       "      <th>oscars</th>\n",
       "      <th>awards</th>\n",
       "      <th>nominations</th>\n",
       "      <th>genres</th>\n",
       "    </tr>\n",
       "  </thead>\n",
       "  <tbody>\n",
       "    <tr>\n",
       "      <th>0</th>\n",
       "      <td>1</td>\n",
       "      <td>The Shawshank Redemption</td>\n",
       "      <td>1994</td>\n",
       "      <td>Frank Darabont</td>\n",
       "      <td>142</td>\n",
       "      <td>9.2</td>\n",
       "      <td>2.888450e+07</td>\n",
       "      <td>0</td>\n",
       "      <td>21</td>\n",
       "      <td>43</td>\n",
       "      <td>Drama</td>\n",
       "    </tr>\n",
       "    <tr>\n",
       "      <th>1</th>\n",
       "      <td>2</td>\n",
       "      <td>The Godfather</td>\n",
       "      <td>1972</td>\n",
       "      <td>Francis Ford Coppola</td>\n",
       "      <td>175</td>\n",
       "      <td>9.2</td>\n",
       "      <td>2.503418e+08</td>\n",
       "      <td>3</td>\n",
       "      <td>31</td>\n",
       "      <td>30</td>\n",
       "      <td>Crime</td>\n",
       "    </tr>\n",
       "    <tr>\n",
       "      <th>1</th>\n",
       "      <td>2</td>\n",
       "      <td>The Godfather</td>\n",
       "      <td>1972</td>\n",
       "      <td>Francis Ford Coppola</td>\n",
       "      <td>175</td>\n",
       "      <td>9.2</td>\n",
       "      <td>2.503418e+08</td>\n",
       "      <td>3</td>\n",
       "      <td>31</td>\n",
       "      <td>30</td>\n",
       "      <td>Drama</td>\n",
       "    </tr>\n",
       "    <tr>\n",
       "      <th>2</th>\n",
       "      <td>3</td>\n",
       "      <td>The Dark Knight</td>\n",
       "      <td>2008</td>\n",
       "      <td>Christopher Nolan</td>\n",
       "      <td>152</td>\n",
       "      <td>9.0</td>\n",
       "      <td>1.006102e+09</td>\n",
       "      <td>2</td>\n",
       "      <td>159</td>\n",
       "      <td>163</td>\n",
       "      <td>Action</td>\n",
       "    </tr>\n",
       "    <tr>\n",
       "      <th>2</th>\n",
       "      <td>3</td>\n",
       "      <td>The Dark Knight</td>\n",
       "      <td>2008</td>\n",
       "      <td>Christopher Nolan</td>\n",
       "      <td>152</td>\n",
       "      <td>9.0</td>\n",
       "      <td>1.006102e+09</td>\n",
       "      <td>2</td>\n",
       "      <td>159</td>\n",
       "      <td>163</td>\n",
       "      <td>Crime</td>\n",
       "    </tr>\n",
       "  </tbody>\n",
       "</table>\n",
       "</div>"
      ],
      "text/plain": [
       "   rank                     title  year              director  \\\n",
       "0     1  The Shawshank Redemption  1994        Frank Darabont   \n",
       "1     2             The Godfather  1972  Francis Ford Coppola   \n",
       "1     2             The Godfather  1972  Francis Ford Coppola   \n",
       "2     3           The Dark Knight  2008     Christopher Nolan   \n",
       "2     3           The Dark Knight  2008     Christopher Nolan   \n",
       "\n",
       "   duration(minutes)  rating         gross  oscars  awards  nominations  \\\n",
       "0                142     9.2  2.888450e+07       0      21           43   \n",
       "1                175     9.2  2.503418e+08       3      31           30   \n",
       "1                175     9.2  2.503418e+08       3      31           30   \n",
       "2                152     9.0  1.006102e+09       2     159          163   \n",
       "2                152     9.0  1.006102e+09       2     159          163   \n",
       "\n",
       "   genres  \n",
       "0   Drama  \n",
       "1   Crime  \n",
       "1   Drama  \n",
       "2  Action  \n",
       "2   Crime  "
      ]
     },
     "execution_count": 28,
     "metadata": {},
     "output_type": "execute_result"
    }
   ],
   "source": [
    "df_copy = df.copy()\n",
    "s = df_copy['genres'].str.split(', ').apply(Series, 1).stack()\n",
    "s.index = s.index.droplevel(-1)\n",
    "s.name = 'genres'\n",
    "del df_copy['genres']\n",
    "df_copy = df_copy.join(s)\n",
    "df_copy.head()"
   ]
  },
  {
   "cell_type": "code",
   "execution_count": 29,
   "metadata": {},
   "outputs": [
    {
     "data": {
      "text/plain": [
       "(626, 11)"
      ]
     },
     "execution_count": 29,
     "metadata": {},
     "output_type": "execute_result"
    }
   ],
   "source": [
    "df_copy.shape"
   ]
  },
  {
   "cell_type": "code",
   "execution_count": 30,
   "metadata": {},
   "outputs": [
    {
     "data": {
      "text/plain": [
       "array(['Drama', 'Crime', 'Action', 'Biography', 'History', 'Adventure',\n",
       "       'Western', 'Romance', 'Sci-Fi', 'Fantasy', 'Mystery', 'Family',\n",
       "       'Thriller', 'War', 'Comedy', 'Animation', 'Horror', 'Music',\n",
       "       'Film-Noir', 'Musical', 'Sport'], dtype=object)"
      ]
     },
     "execution_count": 30,
     "metadata": {},
     "output_type": "execute_result"
    }
   ],
   "source": [
    "df_copy['genres'].unique()"
   ]
  },
  {
   "cell_type": "code",
   "execution_count": 31,
   "metadata": {},
   "outputs": [
    {
     "data": {
      "text/plain": [
       "21"
      ]
     },
     "execution_count": 31,
     "metadata": {},
     "output_type": "execute_result"
    }
   ],
   "source": [
    "len(df_copy['genres'].unique())"
   ]
  },
  {
   "cell_type": "code",
   "execution_count": 32,
   "metadata": {},
   "outputs": [
    {
     "data": {
      "text/plain": [
       "Drama        177\n",
       "Adventure     59\n",
       "Crime         51\n",
       "Action        49\n",
       "Comedy        47\n",
       "Mystery       32\n",
       "Thriller      30\n",
       "Biography     29\n",
       "Animation     23\n",
       "Romance       23\n",
       "War           23\n",
       "Sci-Fi        20\n",
       "Fantasy       16\n",
       "Family        13\n",
       "History        9\n",
       "Western        6\n",
       "Horror         5\n",
       "Sport          5\n",
       "Film-Noir      4\n",
       "Music          4\n",
       "Musical        1\n",
       "Name: genres, dtype: int64"
      ]
     },
     "execution_count": 32,
     "metadata": {},
     "output_type": "execute_result"
    }
   ],
   "source": [
    "df_copy['genres'].value_counts()"
   ]
  },
  {
   "cell_type": "markdown",
   "metadata": {},
   "source": [
    "### Most Used Genres"
   ]
  },
  {
   "cell_type": "code",
   "execution_count": 33,
   "metadata": {},
   "outputs": [],
   "source": [
    "plt.rcParams['figure.figsize'] = (15,8)"
   ]
  },
  {
   "cell_type": "code",
   "execution_count": 34,
   "metadata": {},
   "outputs": [
    {
     "data": {
      "text/plain": [
       "[Text(0.5, 0, 'Genres'), Text(0, 0.5, 'Count')]"
      ]
     },
     "execution_count": 34,
     "metadata": {},
     "output_type": "execute_result"
    },
    {
     "data": {
      "image/png": "[encoded data removed]",
      "text/plain": [
       "<Figure size 1080x576 with 1 Axes>"
      ]
     },
     "metadata": {
      "needs_background": "light"
     },
     "output_type": "display_data"
    }
   ],
   "source": [
    "plt.xticks(rotation=45)\n",
    "sns.countplot(x=\"genres\", data=df_copy, order=df_copy['genres'].value_counts().index).set(xlabel=\"Genres\", ylabel = \"Count\")"
   ]
  },
  {
   "cell_type": "markdown",
   "metadata": {},
   "source": [
    "### Most Grossing Genres"
   ]
  },
  {
   "cell_type": "markdown",
   "metadata": {},
   "source": [
    "#### First remove null values"
   ]
  },
  {
   "cell_type": "code",
   "execution_count": 35,
   "metadata": {},
   "outputs": [
    {
     "data": {
      "text/plain": [
       "rank                 0\n",
       "title                0\n",
       "year                 0\n",
       "director             0\n",
       "duration(minutes)    0\n",
       "rating               0\n",
       "gross                0\n",
       "oscars               0\n",
       "awards               0\n",
       "nominations          0\n",
       "genres               0\n",
       "dtype: int64"
      ]
     },
     "execution_count": 35,
     "metadata": {},
     "output_type": "execute_result"
    }
   ],
   "source": [
    "df_gross = df_copy.dropna()\n",
    "df_gross.isnull().sum()"
   ]
  },
  {
   "cell_type": "code",
   "execution_count": 36,
   "metadata": {},
   "outputs": [
    {
     "data": {
      "text/html": [
       "<div>\n",
       "<style scoped>\n",
       "    .dataframe tbody tr th:only-of-type {\n",
       "        vertical-align: middle;\n",
       "    }\n",
       "\n",
       "    .dataframe tbody tr th {\n",
       "        vertical-align: top;\n",
       "    }\n",
       "\n",
       "    .dataframe thead th {\n",
       "        text-align: right;\n",
       "    }\n",
       "</style>\n",
       "<table border=\"1\" class=\"dataframe\">\n",
       "  <thead>\n",
       "    <tr style=\"text-align: right;\">\n",
       "      <th></th>\n",
       "      <th>gross</th>\n",
       "    </tr>\n",
       "    <tr>\n",
       "      <th>genres</th>\n",
       "      <th></th>\n",
       "    </tr>\n",
       "  </thead>\n",
       "  <tbody>\n",
       "    <tr>\n",
       "      <th>Action</th>\n",
       "      <td>2.467280e+10</td>\n",
       "    </tr>\n",
       "    <tr>\n",
       "      <th>Adventure</th>\n",
       "      <td>3.018333e+10</td>\n",
       "    </tr>\n",
       "    <tr>\n",
       "      <th>Animation</th>\n",
       "      <td>1.117577e+10</td>\n",
       "    </tr>\n",
       "    <tr>\n",
       "      <th>Biography</th>\n",
       "      <td>4.259665e+09</td>\n",
       "    </tr>\n",
       "    <tr>\n",
       "      <th>Comedy</th>\n",
       "      <td>1.017438e+10</td>\n",
       "    </tr>\n",
       "  </tbody>\n",
       "</table>\n",
       "</div>"
      ],
      "text/plain": [
       "                  gross\n",
       "genres                 \n",
       "Action     2.467280e+10\n",
       "Adventure  3.018333e+10\n",
       "Animation  1.117577e+10\n",
       "Biography  4.259665e+09\n",
       "Comedy     1.017438e+10"
      ]
     },
     "execution_count": 36,
     "metadata": {},
     "output_type": "execute_result"
    }
   ],
   "source": [
    "gross_by_genre = df_gross[['genres','gross']]\n",
    "gross_by_genre = gross_by_genre.groupby('genres').sum()\n",
    "gross_by_genre.head()"
   ]
  },
  {
   "cell_type": "code",
   "execution_count": 37,
   "metadata": {},
   "outputs": [
    {
     "data": {
      "text/html": [
       "<div>\n",
       "<style scoped>\n",
       "    .dataframe tbody tr th:only-of-type {\n",
       "        vertical-align: middle;\n",
       "    }\n",
       "\n",
       "    .dataframe tbody tr th {\n",
       "        vertical-align: top;\n",
       "    }\n",
       "\n",
       "    .dataframe thead th {\n",
       "        text-align: right;\n",
       "    }\n",
       "</style>\n",
       "<table border=\"1\" class=\"dataframe\">\n",
       "  <thead>\n",
       "    <tr style=\"text-align: right;\">\n",
       "      <th></th>\n",
       "      <th>gross</th>\n",
       "    </tr>\n",
       "    <tr>\n",
       "      <th>genres</th>\n",
       "      <th></th>\n",
       "    </tr>\n",
       "  </thead>\n",
       "  <tbody>\n",
       "    <tr>\n",
       "      <th>Adventure</th>\n",
       "      <td>30.183</td>\n",
       "    </tr>\n",
       "    <tr>\n",
       "      <th>Drama</th>\n",
       "      <td>29.167</td>\n",
       "    </tr>\n",
       "    <tr>\n",
       "      <th>Action</th>\n",
       "      <td>24.673</td>\n",
       "    </tr>\n",
       "    <tr>\n",
       "      <th>Animation</th>\n",
       "      <td>11.176</td>\n",
       "    </tr>\n",
       "    <tr>\n",
       "      <th>Comedy</th>\n",
       "      <td>10.174</td>\n",
       "    </tr>\n",
       "  </tbody>\n",
       "</table>\n",
       "</div>"
      ],
      "text/plain": [
       "            gross\n",
       "genres           \n",
       "Adventure  30.183\n",
       "Drama      29.167\n",
       "Action     24.673\n",
       "Animation  11.176\n",
       "Comedy     10.174"
      ]
     },
     "execution_count": 37,
     "metadata": {},
     "output_type": "execute_result"
    }
   ],
   "source": [
    "gross_by_genre['gross'] = gross_by_genre['gross'].map(lambda x: x/float(1000000000))\n",
    "gross_by_genre['gross'] = gross_by_genre['gross'].map(lambda x: '{:.3f}'.format(x)).astype('float64')\n",
    "gross_by_genre = gross_by_genre.sort_values(by='gross', ascending=False)\n",
    "gross_by_genre.head()"
   ]
  },
  {
   "cell_type": "code",
   "execution_count": 38,
   "metadata": {},
   "outputs": [
    {
     "data": {
      "image/png": "[encoded data removed]",
      "text/plain": [
       "<Figure size 1080x576 with 1 Axes>"
      ]
     },
     "metadata": {
      "needs_background": "light"
     },
     "output_type": "display_data"
    }
   ],
   "source": [
    "plt.xticks(rotation=45);\n",
    "plt.ylim(0,33)\n",
    "sns.barplot(x=gross_by_genre.index, y='gross', data=gross_by_genre).set(xlabel=\"Genres\", ylabel = \"Gross (Billions)\")\n",
    "for i in range(len(gross_by_genre.index)):\n",
    "    plt.text(i, gross_by_genre['gross'][i],gross_by_genre['gross'][i], ha='center', va='bottom', rotation=45,)"
   ]
  },
  {
   "cell_type": "markdown",
   "metadata": {},
   "source": [
    "### Average Duration by Genre"
   ]
  },
  {
   "cell_type": "code",
   "execution_count": 39,
   "metadata": {},
   "outputs": [
    {
     "data": {
      "text/html": [
       "<div>\n",
       "<style scoped>\n",
       "    .dataframe tbody tr th:only-of-type {\n",
       "        vertical-align: middle;\n",
       "    }\n",
       "\n",
       "    .dataframe tbody tr th {\n",
       "        vertical-align: top;\n",
       "    }\n",
       "\n",
       "    .dataframe thead th {\n",
       "        text-align: right;\n",
       "    }\n",
       "</style>\n",
       "<table border=\"1\" class=\"dataframe\">\n",
       "  <thead>\n",
       "    <tr style=\"text-align: right;\">\n",
       "      <th></th>\n",
       "      <th>duration(minutes)</th>\n",
       "    </tr>\n",
       "    <tr>\n",
       "      <th>genres</th>\n",
       "      <th></th>\n",
       "    </tr>\n",
       "  </thead>\n",
       "  <tbody>\n",
       "    <tr>\n",
       "      <th>History</th>\n",
       "      <td>151.666667</td>\n",
       "    </tr>\n",
       "    <tr>\n",
       "      <th>Biography</th>\n",
       "      <td>146.931034</td>\n",
       "    </tr>\n",
       "    <tr>\n",
       "      <th>Western</th>\n",
       "      <td>146.500000</td>\n",
       "    </tr>\n",
       "    <tr>\n",
       "      <th>War</th>\n",
       "      <td>140.434783</td>\n",
       "    </tr>\n",
       "    <tr>\n",
       "      <th>Action</th>\n",
       "      <td>134.897959</td>\n",
       "    </tr>\n",
       "  </tbody>\n",
       "</table>\n",
       "</div>"
      ],
      "text/plain": [
       "           duration(minutes)\n",
       "genres                      \n",
       "History           151.666667\n",
       "Biography         146.931034\n",
       "Western           146.500000\n",
       "War               140.434783\n",
       "Action            134.897959"
      ]
     },
     "execution_count": 39,
     "metadata": {},
     "output_type": "execute_result"
    }
   ],
   "source": [
    "duration_by_genre = df_copy[['genres','duration(minutes)']]\n",
    "duration_by_genre = duration_by_genre.groupby('genres').mean()\n",
    "duration_by_genre = duration_by_genre.sort_values(by='duration(minutes)', ascending=False)\n",
    "duration_by_genre.head()"
   ]
  },
  {
   "cell_type": "code",
   "execution_count": 40,
   "metadata": {},
   "outputs": [
    {
     "data": {
      "text/plain": [
       "[Text(0.5, 0, 'Genres'), Text(0, 0.5, 'Average Duration(minutes)')]"
      ]
     },
     "execution_count": 40,
     "metadata": {},
     "output_type": "execute_result"
    },
    {
     "data": {
      "image/png": "[encoded data removed]",
      "text/plain": [
       "<Figure size 1080x576 with 1 Axes>"
      ]
     },
     "metadata": {
      "needs_background": "light"
     },
     "output_type": "display_data"
    }
   ],
   "source": [
    "plt.xticks(rotation=45);\n",
    "sns.barplot(x=duration_by_genre.index, y='duration(minutes)', data=duration_by_genre).set(xlabel=\"Genres\", ylabel = \"Average Duration(minutes)\")"
   ]
  },
  {
   "cell_type": "markdown",
   "metadata": {},
   "source": [
    "### Average Award Win Percentage by Genre"
   ]
  },
  {
   "cell_type": "code",
   "execution_count": 41,
   "metadata": {},
   "outputs": [
    {
     "data": {
      "text/html": [
       "<div>\n",
       "<style scoped>\n",
       "    .dataframe tbody tr th:only-of-type {\n",
       "        vertical-align: middle;\n",
       "    }\n",
       "\n",
       "    .dataframe tbody tr th {\n",
       "        vertical-align: top;\n",
       "    }\n",
       "\n",
       "    .dataframe thead th {\n",
       "        text-align: right;\n",
       "    }\n",
       "</style>\n",
       "<table border=\"1\" class=\"dataframe\">\n",
       "  <thead>\n",
       "    <tr style=\"text-align: right;\">\n",
       "      <th></th>\n",
       "      <th>winrate</th>\n",
       "    </tr>\n",
       "    <tr>\n",
       "      <th>genres</th>\n",
       "      <th></th>\n",
       "    </tr>\n",
       "  </thead>\n",
       "  <tbody>\n",
       "    <tr>\n",
       "      <th>Family</th>\n",
       "      <td>55.746950</td>\n",
       "    </tr>\n",
       "    <tr>\n",
       "      <th>Romance</th>\n",
       "      <td>53.346283</td>\n",
       "    </tr>\n",
       "    <tr>\n",
       "      <th>War</th>\n",
       "      <td>53.041437</td>\n",
       "    </tr>\n",
       "    <tr>\n",
       "      <th>Music</th>\n",
       "      <td>51.994650</td>\n",
       "    </tr>\n",
       "    <tr>\n",
       "      <th>Comedy</th>\n",
       "      <td>50.565486</td>\n",
       "    </tr>\n",
       "  </tbody>\n",
       "</table>\n",
       "</div>"
      ],
      "text/plain": [
       "           winrate\n",
       "genres            \n",
       "Family   55.746950\n",
       "Romance  53.346283\n",
       "War      53.041437\n",
       "Music    51.994650\n",
       "Comedy   50.565486"
      ]
     },
     "execution_count": 41,
     "metadata": {},
     "output_type": "execute_result"
    }
   ],
   "source": [
    "pd.options.mode.chained_assignment = None\n",
    "award_by_genre = df_copy[['genres','awards','nominations']]\n",
    "#wins dont count as nominations so we need to add them first\n",
    "award_by_genre['winrate'] = award_by_genre.apply(lambda x: (x['awards']/(x['nominations']+x['awards']))*100, axis=1)\n",
    "award_by_genre = award_by_genre.drop(columns=['awards', 'nominations'])\n",
    "award_by_genre = award_by_genre.groupby('genres').mean()\n",
    "award_by_genre = award_by_genre.sort_values(by='winrate', ascending=False)\n",
    "award_by_genre.head()"
   ]
  },
  {
   "cell_type": "code",
   "execution_count": 42,
   "metadata": {},
   "outputs": [
    {
     "data": {
      "text/plain": [
       "[Text(0.5, 0, 'Genres'), Text(0, 0.5, 'Award Winrate')]"
      ]
     },
     "execution_count": 42,
     "metadata": {},
     "output_type": "execute_result"
    },
    {
     "data": {
      "image/png": "[encoded data removed]",
      "text/plain": [
       "<Figure size 1080x576 with 1 Axes>"
      ]
     },
     "metadata": {
      "needs_background": "light"
     },
     "output_type": "display_data"
    }
   ],
   "source": [
    "plt.xticks(rotation=45);\n",
    "sns.barplot(x=award_by_genre.index, y='winrate', data=award_by_genre).set(xlabel=\"Genres\", ylabel = \"Award Winrate\")"
   ]
  },
  {
   "cell_type": "markdown",
   "metadata": {},
   "source": [
    "### Movie Distribution (Before and After 2000's)"
   ]
  },
  {
   "cell_type": "code",
   "execution_count": 43,
   "metadata": {},
   "outputs": [],
   "source": [
    "#filters\n",
    "before = df['year'] < 2000 \n",
    "after = df['year'] >= 2000"
   ]
  },
  {
   "cell_type": "code",
   "execution_count": 44,
   "metadata": {},
   "outputs": [
    {
     "data": {
      "text/plain": [
       "([<matplotlib.patches.Wedge at 0x2bcd6bf2550>,\n",
       "  <matplotlib.patches.Wedge at 0x2bcd6bf2c70>],\n",
       " [Text(-0.3791071783669761, 1.0326072570491793, 'Before 2000'),\n",
       "  Text(0.3791071783669765, -1.0326072570491793, 'After 2000')],\n",
       " [Text(-0.20678573365471423, 0.5632403220268251, '61%'),\n",
       "  Text(0.20678573365471442, -0.563240322026825, '39%')])"
      ]
     },
     "execution_count": 44,
     "metadata": {},
     "output_type": "execute_result"
    },
    {
     "data": {
      "image/png": "[encoded data removed]",
      "text/plain": [
       "<Figure size 1080x576 with 1 Axes>"
      ]
     },
     "metadata": {},
     "output_type": "display_data"
    }
   ],
   "source": [
    "percent = [df.loc[before].title.count(), df.loc[after].title.count()]\n",
    "labels = ['Before 2000', 'After 2000']\n",
    "colors = sns.color_palette('pastel')[0:2]\n",
    "plt.pie(percent, colors=colors, labels=labels, autopct='%.0f%%')\n"
   ]
  }
 ],
 "metadata": {
  "kernelspec": {
   "display_name": "Python 3",
   "language": "python",
   "name": "python3"
  },
  "language_info": {
   "codemirror_mode": {
    "name": "ipython",
    "version": 3
   },
   "file_extension": ".py",
   "mimetype": "text/x-python",
   "name": "python",
   "nbconvert_exporter": "python",
   "pygments_lexer": "ipython3",
   "version": "3.8.5"
  }
 },
 "nbformat": 4,
 "nbformat_minor": 4
}
