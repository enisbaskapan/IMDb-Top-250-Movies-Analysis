{
 "cells": [
  {
   "cell_type": "markdown",
   "metadata": {},
   "source": [
    "# IMDb Top 250 Movies Analysis"
   ]
  },
  {
   "cell_type": "markdown",
   "metadata": {},
   "source": [
    "## Import required libraries"
   ]
  },
  {
   "cell_type": "code",
   "execution_count": 108,
   "metadata": {},
   "outputs": [],
   "source": [
    "import requests\n",
    "from bs4 import BeautifulSoup  \n",
    "import re\n",
    "import pandas as pd\n",
    "import csv\n",
    "import seaborn as sns\n",
    "import matplotlib.pyplot as plt"
   ]
  },
  {
   "cell_type": "markdown",
   "metadata": {},
   "source": [
    "## Open csv file"
   ]
  },
  {
   "cell_type": "code",
   "execution_count": 109,
   "metadata": {},
   "outputs": [
    {
     "data": {
      "text/plain": [
       "83"
      ]
     },
     "execution_count": 109,
     "metadata": {},
     "output_type": "execute_result"
    }
   ],
   "source": [
    "csv_file = open('imdbtop250.csv', 'w', encoding='UTF8')\n",
    "csv_writer = csv.writer(csv_file)\n",
    "csv_writer.writerow(['rank', 'title', 'year', 'director', 'duration(minutes)', 'genre', 'rating', 'oscars', 'awards', 'nominations'])"
   ]
  },
  {
   "cell_type": "markdown",
   "metadata": {},
   "source": [
    "## Get URL"
   ]
  },
  {
   "cell_type": "code",
   "execution_count": 110,
   "metadata": {},
   "outputs": [],
   "source": [
    "url = 'https://www.imdb.com/chart/top'\n",
    "response = requests.get(url)\n",
    "response.raise_for_status() #error   "
   ]
  },
  {
   "cell_type": "code",
   "execution_count": 111,
   "metadata": {},
   "outputs": [],
   "source": [
    "soup = BeautifulSoup(response.text, \"html.parser\")"
   ]
  },
  {
   "cell_type": "markdown",
   "metadata": {},
   "source": [
    "## Function to get info from individual movie links"
   ]
  },
  {
   "cell_type": "code",
   "execution_count": 112,
   "metadata": {},
   "outputs": [],
   "source": [
    "def more_info(url):\n",
    "    detail = requests.get(url)\n",
    "    soup = BeautifulSoup(detail.text, \"html.parser\")\n",
    "    style = soup.find('div', class_='sc-910a7330-4 kcpPzf')\n",
    "    if style:\n",
    "        gd = style\n",
    "    else:\n",
    "        gd = soup.find('div', class_='sc-fa02f843-0 fjLeDR')\n",
    "    \n",
    "    genres = []\n",
    "    oscars = []\n",
    "    \n",
    "    # Genre\n",
    "    for genre in gd.find_all('span', class_='ipc-chip__text'): genres.append(genre.text)\n",
    "    \n",
    "    # Director \n",
    "    director = gd.find('li', class_='ipc-inline-list__item').text\n",
    "    \n",
    "    # Runtime in minutes\n",
    "    runtime = soup.find('div', class_='sc-94726ce4-3 eSKKHi').ul.find_all('li', class_='ipc-inline-list__item')[2].text\n",
    "    time = re.findall('\\d+', runtime)\n",
    "    if len(time) > 1: minutes = int(time[0])*60 + int(time[1]) \n",
    "    else: minutes = int(time[0]*60)\n",
    "    \n",
    "    award = soup.find('div', class_='sc-fcdc3619-0 YgLMu base').ul.text\n",
    "    num = re.findall('\\d+', award)\n",
    "    if award.split(' ')[0] == 'Won': oscars.append(int(num[0][0]))\n",
    "    elif award.split(' ')[0] == 'Nominated': oscars.append(0)\n",
    "    else: oscars.append(0) # if there are no nominations \n",
    "        \n",
    "    return genres, director, minutes, oscars[0], num[len(num)-2], num[len(num)-1]"
   ]
  },
  {
   "cell_type": "markdown",
   "metadata": {},
   "source": [
    "## Main page scraping"
   ]
  },
  {
   "cell_type": "code",
   "execution_count": 113,
   "metadata": {
    "scrolled": false
   },
   "outputs": [],
   "source": [
    "movies = soup.find('tbody', class_='lister-list').find_all('tr')\n",
    "for movie in movies:\n",
    "    rank = movie.find('td', class_='titleColumn').get_text(strip=True).split('.')[0]\n",
    "    name = movie.find('td', class_='titleColumn').a.text\n",
    "    year = movie.find('td', class_='titleColumn').span.text.replace('(','').replace(')','')\n",
    "    rating = movie.find('td', class_='ratingColumn imdbRating').strong.text\n",
    "    \n",
    "    base = 'https://www.imdb.com/'\n",
    "    href = movie.find('td', class_='titleColumn').a.get('href')\n",
    "    url = base+href  \n",
    "    \n",
    "    genres, director, minutes, oscars, awards, nominations = more_info(url)\n",
    "    \n",
    "    csv_writer.writerow([rank, name, year, director, minutes, genres, rating, oscars, awards, nominations])"
   ]
  },
  {
   "cell_type": "markdown",
   "metadata": {},
   "source": [
    "## Close csv file"
   ]
  },
  {
   "cell_type": "code",
   "execution_count": 114,
   "metadata": {},
   "outputs": [],
   "source": [
    "csv_file.close()"
   ]
  },
  {
   "cell_type": "markdown",
   "metadata": {},
   "source": [
    "## Load data"
   ]
  },
  {
   "cell_type": "code",
   "execution_count": 115,
   "metadata": {
    "scrolled": true
   },
   "outputs": [
    {
     "data": {
      "text/html": [
       "<div>\n",
       "<style scoped>\n",
       "    .dataframe tbody tr th:only-of-type {\n",
       "        vertical-align: middle;\n",
       "    }\n",
       "\n",
       "    .dataframe tbody tr th {\n",
       "        vertical-align: top;\n",
       "    }\n",
       "\n",
       "    .dataframe thead th {\n",
       "        text-align: right;\n",
       "    }\n",
       "</style>\n",
       "<table border=\"1\" class=\"dataframe\">\n",
       "  <thead>\n",
       "    <tr style=\"text-align: right;\">\n",
       "      <th></th>\n",
       "      <th>title</th>\n",
       "      <th>year</th>\n",
       "      <th>director</th>\n",
       "      <th>duration(minutes)</th>\n",
       "      <th>genre</th>\n",
       "      <th>rating</th>\n",
       "      <th>oscars</th>\n",
       "      <th>awards</th>\n",
       "      <th>nominations</th>\n",
       "    </tr>\n",
       "    <tr>\n",
       "      <th>rank</th>\n",
       "      <th></th>\n",
       "      <th></th>\n",
       "      <th></th>\n",
       "      <th></th>\n",
       "      <th></th>\n",
       "      <th></th>\n",
       "      <th></th>\n",
       "      <th></th>\n",
       "      <th></th>\n",
       "    </tr>\n",
       "  </thead>\n",
       "  <tbody>\n",
       "    <tr>\n",
       "      <th>1</th>\n",
       "      <td>The Shawshank Redemption</td>\n",
       "      <td>1994</td>\n",
       "      <td>Frank Darabont</td>\n",
       "      <td>142</td>\n",
       "      <td>['Drama']</td>\n",
       "      <td>9.2</td>\n",
       "      <td>0</td>\n",
       "      <td>21</td>\n",
       "      <td>43</td>\n",
       "    </tr>\n",
       "    <tr>\n",
       "      <th>2</th>\n",
       "      <td>The Godfather</td>\n",
       "      <td>1972</td>\n",
       "      <td>Francis Ford Coppola</td>\n",
       "      <td>175</td>\n",
       "      <td>['Crime', 'Drama']</td>\n",
       "      <td>9.2</td>\n",
       "      <td>3</td>\n",
       "      <td>31</td>\n",
       "      <td>30</td>\n",
       "    </tr>\n",
       "    <tr>\n",
       "      <th>3</th>\n",
       "      <td>The Dark Knight</td>\n",
       "      <td>2008</td>\n",
       "      <td>Christopher Nolan</td>\n",
       "      <td>152</td>\n",
       "      <td>['Action', 'Crime', 'Drama']</td>\n",
       "      <td>9.0</td>\n",
       "      <td>2</td>\n",
       "      <td>159</td>\n",
       "      <td>163</td>\n",
       "    </tr>\n",
       "    <tr>\n",
       "      <th>4</th>\n",
       "      <td>The Godfather Part II</td>\n",
       "      <td>1974</td>\n",
       "      <td>Francis Ford Coppola</td>\n",
       "      <td>202</td>\n",
       "      <td>['Crime', 'Drama']</td>\n",
       "      <td>9.0</td>\n",
       "      <td>6</td>\n",
       "      <td>17</td>\n",
       "      <td>20</td>\n",
       "    </tr>\n",
       "    <tr>\n",
       "      <th>5</th>\n",
       "      <td>12 Angry Men</td>\n",
       "      <td>1957</td>\n",
       "      <td>Sidney Lumet</td>\n",
       "      <td>96</td>\n",
       "      <td>['Crime', 'Drama']</td>\n",
       "      <td>8.9</td>\n",
       "      <td>0</td>\n",
       "      <td>17</td>\n",
       "      <td>13</td>\n",
       "    </tr>\n",
       "  </tbody>\n",
       "</table>\n",
       "</div>"
      ],
      "text/plain": [
       "                         title  year              director duration(minutes)  \\\n",
       "rank                                                                           \n",
       "1     The Shawshank Redemption  1994        Frank Darabont               142   \n",
       "2                The Godfather  1972  Francis Ford Coppola               175   \n",
       "3              The Dark Knight  2008     Christopher Nolan               152   \n",
       "4        The Godfather Part II  1974  Francis Ford Coppola               202   \n",
       "5                 12 Angry Men  1957          Sidney Lumet                96   \n",
       "\n",
       "                             genre  rating  oscars  awards  nominations  \n",
       "rank                                                                     \n",
       "1                        ['Drama']     9.2       0      21           43  \n",
       "2               ['Crime', 'Drama']     9.2       3      31           30  \n",
       "3     ['Action', 'Crime', 'Drama']     9.0       2     159          163  \n",
       "4               ['Crime', 'Drama']     9.0       6      17           20  \n",
       "5               ['Crime', 'Drama']     8.9       0      17           13  "
      ]
     },
     "execution_count": 115,
     "metadata": {},
     "output_type": "execute_result"
    }
   ],
   "source": [
    "df = pd.read_csv('imdbtop250.csv', index_col='rank')\n",
    "df.head()"
   ]
  },
  {
   "cell_type": "code",
   "execution_count": 84,
   "metadata": {
    "scrolled": false
   },
   "outputs": [
    {
     "data": {
      "text/plain": [
       "year\n",
       "1921    8.200000\n",
       "1924    8.100000\n",
       "1925    8.100000\n",
       "1926    8.100000\n",
       "1927    8.200000\n",
       "          ...   \n",
       "2018    8.300000\n",
       "2019    8.233333\n",
       "2020    8.200000\n",
       "2021    8.100000\n",
       "2022    8.300000\n",
       "Name: rating, Length: 86, dtype: float64"
      ]
     },
     "execution_count": 84,
     "metadata": {},
     "output_type": "execute_result"
    }
   ],
   "source": [
    "year_ratings = df.groupby('year').rating.mean()\n",
    "year_ratings"
   ]
  },
  {
   "cell_type": "code",
   "execution_count": 85,
   "metadata": {},
   "outputs": [
    {
     "data": {
      "text/plain": [
       "<AxesSubplot:xlabel='year', ylabel='rating'>"
      ]
     },
     "execution_count": 85,
     "metadata": {},
     "output_type": "execute_result"
    },
    {
     "data": {
      "image/png": "[encoded data removed]",
      "text/plain": [
       "<Figure size 432x288 with 1 Axes>"
      ]
     },
     "metadata": {
      "needs_background": "light"
     },
     "output_type": "display_data"
    }
   ],
   "source": [
    "sns.lineplot(data=year_ratings)"
   ]
  },
  {
   "cell_type": "code",
   "execution_count": 86,
   "metadata": {},
   "outputs": [],
   "source": [
    "#filters\n",
    "before = df['year'] < 2000 \n",
    "after = df['year'] > 2000"
   ]
  },
  {
   "cell_type": "code",
   "execution_count": 87,
   "metadata": {},
   "outputs": [
    {
     "data": {
      "text/plain": [
       "title     153\n",
       "year      153\n",
       "rating    153\n",
       "dtype: int64"
      ]
     },
     "execution_count": 87,
     "metadata": {},
     "output_type": "execute_result"
    }
   ],
   "source": [
    "df.loc[before].count()"
   ]
  },
  {
   "cell_type": "code",
   "execution_count": 88,
   "metadata": {
    "scrolled": true
   },
   "outputs": [
    {
     "data": {
      "text/plain": [
       "title     92\n",
       "year      92\n",
       "rating    92\n",
       "dtype: int64"
      ]
     },
     "execution_count": 88,
     "metadata": {},
     "output_type": "execute_result"
    }
   ],
   "source": [
    "df.loc[after].count()"
   ]
  },
  {
   "cell_type": "code",
   "execution_count": 89,
   "metadata": {
    "scrolled": true
   },
   "outputs": [
    {
     "data": {
      "text/plain": [
       "([<matplotlib.patches.Wedge at 0x24f6bea1910>,\n",
       "  <matplotlib.patches.Wedge at 0x24f6bea1fa0>],\n",
       " [Text(-0.4193222704600219, 1.0169409193735162, 'Before 2000'),\n",
       "  Text(0.4193222704600221, -1.0169409193735162, 'After 2000')],\n",
       " [Text(-0.2287212384327392, 0.5546950469310088, '62%'),\n",
       "  Text(0.22872123843273928, -0.5546950469310088, '38%')])"
      ]
     },
     "execution_count": 89,
     "metadata": {},
     "output_type": "execute_result"
    },
    {
     "data": {
      "image/png": "[encoded data removed]",
      "text/plain": [
       "<Figure size 432x288 with 1 Axes>"
      ]
     },
     "metadata": {},
     "output_type": "display_data"
    }
   ],
   "source": [
    "percent = [df.loc[before].title.count(), df.loc[after].title.count()]\n",
    "labels = ['Before 2000', 'After 2000']\n",
    "colors = sns.color_palette('pastel')[0:2]\n",
    "plt.pie(percent, colors=colors, labels=labels, autopct='%.0f%%')\n"
   ]
  }
 ],
 "metadata": {
  "kernelspec": {
   "display_name": "Python 3",
   "language": "python",
   "name": "python3"
  },
  "language_info": {
   "codemirror_mode": {
    "name": "ipython",
    "version": 3
   },
   "file_extension": ".py",
   "mimetype": "text/x-python",
   "name": "python",
   "nbconvert_exporter": "python",
   "pygments_lexer": "ipython3",
   "version": "3.8.5"
  }
 },
 "nbformat": 4,
 "nbformat_minor": 4
}
